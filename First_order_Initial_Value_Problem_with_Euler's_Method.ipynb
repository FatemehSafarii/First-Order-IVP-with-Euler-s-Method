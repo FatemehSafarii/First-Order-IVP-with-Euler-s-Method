{
  "nbformat": 4,
  "nbformat_minor": 0,
  "metadata": {
    "colab": {
      "provenance": [],
      "authorship_tag": "ABX9TyMoKThSp86Gt4TuBHF3qaRQ",
      "include_colab_link": true
    },
    "kernelspec": {
      "name": "python3",
      "display_name": "Python 3"
    },
    "language_info": {
      "name": "python"
    }
  },
  "cells": [
    {
      "cell_type": "markdown",
      "metadata": {
        "id": "view-in-github",
        "colab_type": "text"
      },
      "source": [
        "<a href=\"https://colab.research.google.com/github/FatemehSafarii/ODE-IVP-Solver-Euler/blob/main/First_order_Initial_Value_Problem_with_Euler's_Method.ipynb\" target=\"_parent\"><img src=\"https://colab.research.google.com/assets/colab-badge.svg\" alt=\"Open In Colab\"/></a>"
      ]
    },
    {
      "cell_type": "code",
      "source": [
        "def euler_method(f, x0, y0, h, num_steps):\n",
        "\n",
        "    solution = [(x0, y0)]\n",
        "    x = x0\n",
        "    y = y0\n",
        "\n",
        "    for _ in range(num_steps):\n",
        "        y += h * f(x, y)   # Euler's method formula\n",
        "        x += h\n",
        "        solution.append((x, y))\n",
        "\n",
        "    return solution\n",
        "\n",
        "\n",
        "# Example usage\n",
        "def example_function(x, y):\n",
        "    return x * y  # Function representing dy/dx\n",
        "\n",
        "\n",
        "# Get user input\n",
        "x0 = float(input(\"Enter the initial value of x: \"))\n",
        "y0 = float(input(\"Enter the initial value of y: \"))\n",
        "h = float(input(\"Enter the step size (h): \"))\n",
        "num_steps = int(input(\"Enter the number of steps: \"))\n",
        "\n",
        "# Solve the IVP using Euler's method\n",
        "solution = euler_method(example_function, x0, y0, h, num_steps)\n",
        "\n",
        "# Print the solution\n",
        "print(\"\\nApproximate Solution using Euler's method:\")\n",
        "for point in solution:\n",
        "    print(f\"x = {point[0]}, y = {point[1]}\")\n"
      ],
      "metadata": {
        "id": "XO1OgWNGUKh0"
      },
      "execution_count": null,
      "outputs": []
    }
  ]
}